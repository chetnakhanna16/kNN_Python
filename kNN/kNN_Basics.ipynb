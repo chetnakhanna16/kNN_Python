{
 "cells": [
  {
   "cell_type": "markdown",
   "metadata": {},
   "source": [
    "Reference:\n",
    "1. https://ashutoshtripathi.com/2019/08/05/a-complete-guide-to-k-nearest-neighbors-algorithm-knn-using-python/\n",
    "2. https://stackabuse.com/k-nearest-neighbors-algorithm-in-python-and-scikit-learn/"
   ]
  },
  {
   "cell_type": "markdown",
   "metadata": {},
   "source": [
    "### Intuition behind kNN (Understanding through Graph)"
   ]
  },
  {
   "cell_type": "code",
   "execution_count": 2,
   "metadata": {},
   "outputs": [],
   "source": [
    "import pandas as pd\n",
    "import numpy as np\n",
    "import matplotlib.pyplot as plt"
   ]
  },
  {
   "cell_type": "code",
   "execution_count": 3,
   "metadata": {},
   "outputs": [
    {
     "data": {
      "text/html": [
       "<div>\n",
       "<style scoped>\n",
       "    .dataframe tbody tr th:only-of-type {\n",
       "        vertical-align: middle;\n",
       "    }\n",
       "\n",
       "    .dataframe tbody tr th {\n",
       "        vertical-align: top;\n",
       "    }\n",
       "\n",
       "    .dataframe thead th {\n",
       "        text-align: right;\n",
       "    }\n",
       "</style>\n",
       "<table border=\"1\" class=\"dataframe\">\n",
       "  <thead>\n",
       "    <tr style=\"text-align: right;\">\n",
       "      <th></th>\n",
       "      <th>Height</th>\n",
       "      <th>Age</th>\n",
       "      <th>Weight</th>\n",
       "    </tr>\n",
       "  </thead>\n",
       "  <tbody>\n",
       "    <tr>\n",
       "      <td>0</td>\n",
       "      <td>5.1</td>\n",
       "      <td>45</td>\n",
       "      <td>70</td>\n",
       "    </tr>\n",
       "    <tr>\n",
       "      <td>1</td>\n",
       "      <td>5.1</td>\n",
       "      <td>27</td>\n",
       "      <td>41</td>\n",
       "    </tr>\n",
       "    <tr>\n",
       "      <td>2</td>\n",
       "      <td>5.6</td>\n",
       "      <td>30</td>\n",
       "      <td>55</td>\n",
       "    </tr>\n",
       "    <tr>\n",
       "      <td>3</td>\n",
       "      <td>5.9</td>\n",
       "      <td>34</td>\n",
       "      <td>54</td>\n",
       "    </tr>\n",
       "    <tr>\n",
       "      <td>4</td>\n",
       "      <td>4.9</td>\n",
       "      <td>45</td>\n",
       "      <td>72</td>\n",
       "    </tr>\n",
       "    <tr>\n",
       "      <td>5</td>\n",
       "      <td>5.8</td>\n",
       "      <td>36</td>\n",
       "      <td>60</td>\n",
       "    </tr>\n",
       "    <tr>\n",
       "      <td>6</td>\n",
       "      <td>5.3</td>\n",
       "      <td>18</td>\n",
       "      <td>41</td>\n",
       "    </tr>\n",
       "    <tr>\n",
       "      <td>7</td>\n",
       "      <td>5.6</td>\n",
       "      <td>28</td>\n",
       "      <td>60</td>\n",
       "    </tr>\n",
       "    <tr>\n",
       "      <td>8</td>\n",
       "      <td>5.5</td>\n",
       "      <td>23</td>\n",
       "      <td>45</td>\n",
       "    </tr>\n",
       "    <tr>\n",
       "      <td>9</td>\n",
       "      <td>5.6</td>\n",
       "      <td>31</td>\n",
       "      <td>55</td>\n",
       "    </tr>\n",
       "    <tr>\n",
       "      <td>10</td>\n",
       "      <td>5.4</td>\n",
       "      <td>37</td>\n",
       "      <td>?</td>\n",
       "    </tr>\n",
       "  </tbody>\n",
       "</table>\n",
       "</div>"
      ],
      "text/plain": [
       "    Height  Age Weight\n",
       "0      5.1   45     70\n",
       "1      5.1   27     41\n",
       "2      5.6   30     55\n",
       "3      5.9   34     54\n",
       "4      4.9   45     72\n",
       "5      5.8   36     60\n",
       "6      5.3   18     41\n",
       "7      5.6   28     60\n",
       "8      5.5   23     45\n",
       "9      5.6   31     55\n",
       "10     5.4   37      ?"
      ]
     },
     "execution_count": 3,
     "metadata": {},
     "output_type": "execute_result"
    }
   ],
   "source": [
    "#creating a dataframe with age, height and weight\n",
    "\n",
    "Age = [45,27,30,34,45,36,18,28,23,31,37]\n",
    "Height = [5.1,5.10,5.6,5.9,4.9,5.8,5.3,5.6,5.5,5.6,5.4]\n",
    "Weight = [70,41,55,54,72,60,41,60,45,55,\"?\"]\n",
    "Height_Age_Weight_df = pd.DataFrame({\"Height\":Height,\"Age\":Age,\"Weight\":Weight}) #giving column names using dictionary\n",
    "Height_Age_Weight_df"
   ]
  },
  {
   "cell_type": "code",
   "execution_count": 4,
   "metadata": {},
   "outputs": [
    {
     "data": {
      "image/png": "[encoded data removed]",
      "text/plain": [
       "<Figure size 432x288 with 1 Axes>"
      ]
     },
     "metadata": {
      "needs_background": "light"
     },
     "output_type": "display_data"
    }
   ],
   "source": [
    "plt.scatter(Age, Height)\n",
    "plt.xlabel(\"Age\")\n",
    "plt.ylabel(\"Height\")\n",
    "plt.show()"
   ]
  },
  {
   "cell_type": "markdown",
   "metadata": {},
   "source": [
    "The predicted value of weight for height 5.5 and age 38 will be the mean of the values of its k-nearest neighbors which we can find from the graph. "
   ]
  },
  {
   "cell_type": "markdown",
   "metadata": {},
   "source": [
    "### How kNN as an algorithm works?"
   ]
  },
  {
   "cell_type": "code",
   "execution_count": 5,
   "metadata": {},
   "outputs": [
    {
     "data": {
      "text/html": [
       "<div>\n",
       "<style scoped>\n",
       "    .dataframe tbody tr th:only-of-type {\n",
       "        vertical-align: middle;\n",
       "    }\n",
       "\n",
       "    .dataframe tbody tr th {\n",
       "        vertical-align: top;\n",
       "    }\n",
       "\n",
       "    .dataframe thead th {\n",
       "        text-align: right;\n",
       "    }\n",
       "</style>\n",
       "<table border=\"1\" class=\"dataframe\">\n",
       "  <thead>\n",
       "    <tr style=\"text-align: right;\">\n",
       "      <th></th>\n",
       "      <th>X</th>\n",
       "      <th>Y</th>\n",
       "    </tr>\n",
       "  </thead>\n",
       "  <tbody>\n",
       "    <tr>\n",
       "      <td>0</td>\n",
       "      <td>10.0</td>\n",
       "      <td>11</td>\n",
       "    </tr>\n",
       "    <tr>\n",
       "      <td>1</td>\n",
       "      <td>13.8</td>\n",
       "      <td>14.7</td>\n",
       "    </tr>\n",
       "    <tr>\n",
       "      <td>2</td>\n",
       "      <td>12.4</td>\n",
       "      <td>13.5</td>\n",
       "    </tr>\n",
       "    <tr>\n",
       "      <td>3</td>\n",
       "      <td>16.0</td>\n",
       "      <td>16</td>\n",
       "    </tr>\n",
       "    <tr>\n",
       "      <td>4</td>\n",
       "      <td>34.0</td>\n",
       "      <td>35</td>\n",
       "    </tr>\n",
       "    <tr>\n",
       "      <td>5</td>\n",
       "      <td>22.0</td>\n",
       "      <td>24</td>\n",
       "    </tr>\n",
       "    <tr>\n",
       "      <td>6</td>\n",
       "      <td>27.0</td>\n",
       "      <td>26</td>\n",
       "    </tr>\n",
       "    <tr>\n",
       "      <td>7</td>\n",
       "      <td>18.0</td>\n",
       "      <td>18</td>\n",
       "    </tr>\n",
       "    <tr>\n",
       "      <td>8</td>\n",
       "      <td>31.0</td>\n",
       "      <td>31</td>\n",
       "    </tr>\n",
       "    <tr>\n",
       "      <td>9</td>\n",
       "      <td>13.0</td>\n",
       "      <td>?</td>\n",
       "    </tr>\n",
       "  </tbody>\n",
       "</table>\n",
       "</div>"
      ],
      "text/plain": [
       "      X     Y\n",
       "0  10.0    11\n",
       "1  13.8  14.7\n",
       "2  12.4  13.5\n",
       "3  16.0    16\n",
       "4  34.0    35\n",
       "5  22.0    24\n",
       "6  27.0    26\n",
       "7  18.0    18\n",
       "8  31.0    31\n",
       "9  13.0     ?"
      ]
     },
     "execution_count": 5,
     "metadata": {},
     "output_type": "execute_result"
    }
   ],
   "source": [
    "x = [10,13.8,12.4,16,34,22,27,18,31,13]\n",
    "y = [11,14.7,13.5,16,35,24,26,18,31,\"?\"]\n",
    "random_df = pd.DataFrame({\"X\":x,\"Y\":y})\n",
    "random_df"
   ]
  },
  {
   "cell_type": "markdown",
   "metadata": {},
   "source": [
    "Let us take k = 3 in this case. We need to predict the value of Y for X = 13. Its 3 nearest neighbours are X = 10, X = 13.8 and X = 12.4. The corresponding Y values for these X values are 11, 14.7 and 13.5. Let us take the mean of these three values: (11 + 14.7 + 13.5)/3 = 13.067. So, the predicted Y value for X = 13 is 13.067. \n",
    "\n",
    "##### Statistics: \n",
    "“The best prediction of y at an point X = x is the conditional mean in case of L1 Loss and is conditional median in case of L1 Loss.”\n",
    "\n",
    "Here, we have taken conditional mean."
   ]
  },
  {
   "cell_type": "markdown",
   "metadata": {},
   "source": [
    "The above problem was regression problem, where we predicted the value of the continuous variable. We can even predict a classification problem using kNN. For example, if in the above example X = 10 and 12.4 belonged to Class 1 and X = 13.8 belonged to Class 2 then we would have predicted the Class for X = 13 as 1, which means in case of classification we have a majority rule."
   ]
  },
  {
   "cell_type": "markdown",
   "metadata": {},
   "source": [
    "### How to find the k nearest neighbors?"
   ]
  },
  {
   "cell_type": "markdown",
   "metadata": {},
   "source": [
    "We find the nearest neighbor by finding the distance between the new data point and our training data points. And, then shortlist the data points which are closer to the new data point. \n",
    "The most commonly used distance measures are Euclidean and Manhattan for continuous value prediction that is regression and Hamming Distance for categorical or classification problems.\n",
    "\n",
    "Euclidean distance is calculated as the square root of the sum of the squared differences between a new point (X2) and an existing point (X1).\n",
    "\n",
    "Manhattan distance is the distance between real vectors using the sum of their absolute difference.\n",
    "\n",
    "Hamming distance is used for categorical variables. If the value (x) and the value (y) are same, the distance D will be equal to 0. Otherwise D=1. Hamming distance between KAROLIN and KATHRIN is 3 (K-K=0, A-A=0, R-T=1, O-H=1, L-R=1, I-I=0, N-N=0; 0+0+1+1+1+0+0+0=3)"
   ]
  },
  {
   "cell_type": "markdown",
   "metadata": {},
   "source": [
    "### Deciding the value of k"
   ]
  },
  {
   "cell_type": "markdown",
   "metadata": {},
   "source": [
    "k is the hyper parameter in kNN algorithm. Hyper parameter is a parameter whose value is set before the learning process begins. As we decide k before the algorithm starts learning, so k is called hyper parameter.\n",
    "\n",
    "No mathematical formula to calculate k.\n",
    "Decide a k value and keep on increasing it until the error in predicted value is getting reduced. Stop when the error starts increasing.\n",
    "Large value of k increasing the chance of overfitting.\n",
    "Divide the data in three parts: train, validation and test. Select k based on train data and check if it is not overfitting by validating it against validation data.\n",
    "Selecting k involves multiple iterations.\n",
    "Can be easily done using scikit-learn library of Python."
   ]
  },
  {
   "cell_type": "markdown",
   "metadata": {},
   "source": [
    "### Important Points"
   ]
  },
  {
   "cell_type": "markdown",
   "metadata": {},
   "source": [
    "1. As there is no assumption on the form of function f, so KNN is called model free algorithm.\n",
    "2. Computational complexity increases with the increase in data set size.\n",
    "3. kNN suffers with “Curse of Dimensionality” because when dimensions increase it produces less accuracy as it becomes difficult for the algorithm to calculate distance in each dimension.\n",
    "4. Increasing the neighbors creates smoother boundaries to classify correctly.\n",
    "5. It is a lazy learning algorithm and requires no training prior to making real time predictions. That is why it is faster than algorithms like Linear Regression. \n",
    "6. Only two parameters are required to implement KNN - the value of K and the distance function.\n",
    "7. kNN algorithm has a high prediction cost for large datasets as the cost of calculating distance between new point and each existing point becomes higher.\n",
    "8. kNN algorithm doesn't work well with categorical features since it is difficult to find the distance between dimensions with categorical features.\n",
    "9. Keep the value of k odd in order to avoid confusion between two classes of data.\n",
    "10. It memorizes the training dataset bcz of its laziness.\n",
    "11. It is a supervised machine learning algorithm which can be applied to both classification and regression."
   ]
  },
  {
   "cell_type": "code",
   "execution_count": null,
   "metadata": {},
   "outputs": [],
   "source": []
  }
 ],
 "metadata": {
  "kernelspec": {
   "display_name": "Python 3",
   "language": "python",
   "name": "python3"
  },
  "language_info": {
   "codemirror_mode": {
    "name": "ipython",
    "version": 3
   },
   "file_extension": ".py",
   "mimetype": "text/x-python",
   "name": "python",
   "nbconvert_exporter": "python",
   "pygments_lexer": "ipython3",
   "version": "3.7.4"
  }
 },
 "nbformat": 4,
 "nbformat_minor": 2
}
